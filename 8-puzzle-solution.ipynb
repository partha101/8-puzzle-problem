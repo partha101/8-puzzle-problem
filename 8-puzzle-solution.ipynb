{
 "cells": [
  {
   "cell_type": "markdown",
   "id": "0e0ab277",
   "metadata": {},
   "source": [
    "# Main implementation of the problem"
   ]
  },
  {
   "cell_type": "code",
   "execution_count": 14,
   "id": "6a251c48",
   "metadata": {
    "id": "6a251c48"
   },
   "outputs": [],
   "source": [
    "import heapq # heap is imported to treat the queue as a heap so that we can pop according to least cost value of nodes\n",
    "import copy  # copy is imprted to make a copy of the node\n",
    "from enum import Enum  # Enum is imported to make a enumerable of the algorithms\n",
    "import time # time is imported for benchmarking purposes\n",
    "\n",
    "# Enumerable class for the algorithms\n",
    "class Algorithm(Enum):\n",
    "    UNIFORM_COST_SEARCH = 1\n",
    "    MISPLACED_TILE_HEURISTIC = 2\n",
    "    MANHATTAN_DISTANCE_HEURISTIC = 3\n",
    "\n",
    "# Class for nodes is created here. This is required to create the tree structure of the nodes\n",
    "# the node class contains the pointer to the parent of a node, its state (configuration), operator,\n",
    "# its depth from the root of the tree and cost (depth+heuristic)\n",
    "class Node:\n",
    "    def __init__(self, state, parent, operator, depth, cost):\n",
    "        self.state = state\n",
    "        self.parent = parent\n",
    "        self.operator = operator\n",
    "        self.depth = depth\n",
    "        self.cost = cost\n",
    "\n",
    "    def __lt__(self, other):\n",
    "        return self.cost < other.cost\n",
    "    \n",
    "\n",
    "# Function to check solvability of the puzzle\n",
    "def is_solvable(puzzle):\n",
    "    # First we flatten the puzzle to 1D array and then we calculate number of inversions in it \n",
    "    flat_puzzle = [item for sublist in puzzle for item in sublist]\n",
    "    inversions = 0\n",
    "\n",
    "    for i in range(len(flat_puzzle) - 1):\n",
    "        for j in range(i + 1, len(flat_puzzle)):\n",
    "            if flat_puzzle[i] != 0 and flat_puzzle[j] != 0 and flat_puzzle[i] > flat_puzzle[j]:\n",
    "                inversions += 1\n",
    "\n",
    "    # Check for puzzle solvability\n",
    "    return inversions % 2 == 0\n",
    "\n",
    "# Function to print the puzzle \n",
    "def print_puzzle(puzzle):\n",
    "    for row in puzzle:\n",
    "        print(row)\n",
    "    print()\n",
    "\n",
    "# Function to expand a node\n",
    "def EXPAND(node):\n",
    "    # Find the position of the blank (0)\n",
    "    row, col = 0, 0\n",
    "    for r in range(len(node.state)):\n",
    "        if 0 in node.state[r]:\n",
    "            row = r\n",
    "            col = node.state[r].index(0)\n",
    "            break\n",
    "\n",
    "    neighbors = []\n",
    "    operators = [(\"up\", -1, 0), (\"down\", 1, 0), (\"left\", 0, -1), (\"right\", 0, 1)]\n",
    "\n",
    "    for op, dr, dc in operators:\n",
    "        new_row, new_col = row + dr, col + dc\n",
    "        if 0 <= new_row < len(node.state) and 0 <= new_col < len(node.state[0]):\n",
    "            new_state = copy.deepcopy(node.state)\n",
    "            new_state[row][col], new_state[new_row][new_col] = new_state[new_row][new_col], new_state[row][col]\n",
    "            new_node = Node(new_state, node, op, node.depth + 1, 0)\n",
    "            neighbors.append(new_node)\n",
    "\n",
    "    return neighbors\n",
    "\n",
    "    "
   ]
  },
  {
   "cell_type": "code",
   "execution_count": 15,
   "id": "4029f548",
   "metadata": {
    "id": "4029f548"
   },
   "outputs": [],
   "source": [
    "# Here we define the heuristic function for misplaced tile and manhattan distance heuristic\n",
    "def heuristic_function(puzzle, goal, algorithm):\n",
    "    cost = 0\n",
    "    if (algorithm == Algorithm.MISPLACED_TILE_HEURISTIC):\n",
    "        for i in range(len(puzzle)):\n",
    "            for j in range(len(puzzle[i])):\n",
    "                if puzzle[i][j] != 0 and puzzle[i][j] != goal[i][j]:\n",
    "                    cost += 1\n",
    "    if (algorithm == Algorithm.MANHATTAN_DISTANCE_HEURISTIC):\n",
    "        for i in range(len(puzzle)):\n",
    "            for j in range(len(puzzle[i])):\n",
    "                if puzzle[i][j] != 0:\n",
    "                    target_row, target_col = divmod(puzzle[i][j] - 1, len(puzzle))\n",
    "                    cost += abs(i - target_row) + abs(j - target_col)\n",
    "    return cost\n",
    "\n",
    "# The function for the general search algorithm\n",
    "def general_search(puzzle, goal, algorithm):\n",
    "    start_time = time.time() # timer initialization for benchmarking\n",
    "    \n",
    "    # nodes = MAKE-QUEUE(MAKE-NODE(problem.INITIAL-STATE))\n",
    "    initial_node = Node(puzzle, None, None, 0, 0) \n",
    "    queue = [initial_node] \n",
    "\n",
    "    nodes_expanded = 0\n",
    "    max_queue_size = 0\n",
    "\n",
    "    # We are keeping the track of visited node. If this is not done\n",
    "    # benchmark tests cannot be done for configurations with bigger depth\n",
    "    visited_states = set()\n",
    "    visited_states.add(tuple(map(tuple, initial_node.state))) \n",
    "    \n",
    "    #loop do \n",
    "    while queue:  \n",
    "        max_queue_size = max(max_queue_size, len(queue))\n",
    "        \n",
    "        # node = REMOVE-FRONT(nodes)\n",
    "        node = heapq.heappop(queue) \n",
    "        \n",
    "        # if problem.GOAL-TEST(node.STATE) succeeds return node\n",
    "        if node.state == goal: \n",
    "            elapsed_time = time.time() - start_time\n",
    "            return node, nodes_expanded, max_queue_size, elapsed_time\n",
    "        \n",
    "        # EXPAND(node, problem.OPERATORS)\n",
    "        neighbors = EXPAND(node) \n",
    "\n",
    "        for neighbor in neighbors:\n",
    "            neighbor.cost = neighbor.depth + heuristic_function(puzzle, goal, algorithm)\n",
    "\n",
    "            # Here we are checking if the new children were previously visited. \n",
    "            # If they aren't then we are adding them to the queue.\n",
    "            neighbor_state_tuple = tuple(map(tuple, neighbor.state))\n",
    "            if neighbor_state_tuple not in visited_states:\n",
    "                # nodes = QUEUEING-FUNCTION(nodes, EXPAND(node, problem.OPERATORS))\n",
    "                heapq.heappush(queue, neighbor)\n",
    "                nodes_expanded += 1\n",
    "                # the child node is now added to the list of visited nodes\n",
    "                visited_states.add(neighbor_state_tuple)\n",
    "\n",
    "    elapsed_time = time.time() - start_time # timer for time taken to solve puzzle ended here\n",
    "    return None, nodes_expanded, max_queue_size, elapsed_time\n"
   ]
  },
  {
   "cell_type": "code",
   "execution_count": 16,
   "id": "8a1bd183",
   "metadata": {
    "id": "8a1bd183"
   },
   "outputs": [],
   "source": [
    "# Function to print solution is added here\n",
    "def print_solution(node, nodes_expanded, max_queue_size):\n",
    "    path = []\n",
    "    while node is not None:\n",
    "        path.append(node)\n",
    "        node = node.parent\n",
    "    path.reverse()\n",
    "\n",
    "    for step, node in enumerate(path):\n",
    "        if node.operator is not None:\n",
    "            print(f\"The best state to expand with a g(n) = {node.depth} and h(n) = {node.cost - node.depth} is...\")\n",
    "        else:\n",
    "            print(\"The best state to expand with a g(n) = 0 and h(n) =\", node.cost, \"is...\")\n",
    "        print_puzzle(node.state)\n",
    "\n",
    "    print(\"Goal state!\")\n",
    "    print(\"Solution depth was\", path[-1].depth)\n",
    "    print(\"Number of nodes expanded:\", nodes_expanded)\n",
    "    print(\"Max queue size:\", max_queue_size)\n"
   ]
  },
  {
   "cell_type": "code",
   "execution_count": 25,
   "id": "b07b4024",
   "metadata": {
    "colab": {
     "base_uri": "https://localhost:8080/"
    },
    "id": "b07b4024",
    "outputId": "72744a7b-1680-4383-d8a5-8cfbe61ef99c"
   },
   "outputs": [
    {
     "name": "stdout",
     "output_type": "stream",
     "text": [
      "Welcome to my 8-Puzzle Solver. Type '1' to use a default puzzle, or '2' to create your own.\n",
      "2\n",
      "Enter your puzzle, using a zero to represent the blank. Please only enter valid 8-puzzles. Enter the puzzle demiliting the numbers with a space. Type RETURN only when finished.\n",
      "Enter the first row: 1 2 3\n",
      "Enter the second row: 5 0 6\n",
      "Enter the third row: 4 7 8\n",
      "Select algorithm. (1) for Uniform Cost Search, (2) for the Misplaced Tile Heuristic, or (3) the Manhattan Distance Heuristic.\n",
      "1\n",
      "The best state to expand with a g(n) = 0 and h(n) = 0 is...\n",
      "[1, 2, 3]\n",
      "[5, 0, 6]\n",
      "[4, 7, 8]\n",
      "\n",
      "The best state to expand with a g(n) = 1 and h(n) = 0 is...\n",
      "[1, 2, 3]\n",
      "[0, 5, 6]\n",
      "[4, 7, 8]\n",
      "\n",
      "The best state to expand with a g(n) = 2 and h(n) = 0 is...\n",
      "[1, 2, 3]\n",
      "[4, 5, 6]\n",
      "[0, 7, 8]\n",
      "\n",
      "The best state to expand with a g(n) = 3 and h(n) = 0 is...\n",
      "[1, 2, 3]\n",
      "[4, 5, 6]\n",
      "[7, 0, 8]\n",
      "\n",
      "The best state to expand with a g(n) = 4 and h(n) = 0 is...\n",
      "[1, 2, 3]\n",
      "[4, 5, 6]\n",
      "[7, 8, 0]\n",
      "\n",
      "Goal state!\n",
      "Solution depth was 4\n",
      "Number of nodes expanded: 39\n",
      "Max queue size: 18\n"
     ]
    }
   ],
   "source": [
    "# Main execution block of the code\n",
    "def main():\n",
    "    print(\"Welcome to my 8-Puzzle Solver. Type '1' to use a default puzzle, or '2' to create your own.\")\n",
    "    choice = int(input())\n",
    "\n",
    "    if choice == 1:\n",
    "        puzzle = [[1, 2, 3], [4, 0, 6], [7, 5, 8]]\n",
    "    elif choice == 2:\n",
    "        print(\"Enter your puzzle, using a zero to represent the blank. Please only enter valid 8-puzzles. Enter the puzzle demiliting the numbers with a space. Type RETURN only when finished.\")\n",
    "        puzzle = []\n",
    "        row = list(map(int, input(f\"Enter the first row: \").split()))\n",
    "        puzzle.append(row)\n",
    "\n",
    "        row = list(map(int, input(f\"Enter the second row: \").split()))\n",
    "        puzzle.append(row)\n",
    "\n",
    "        row = list(map(int, input(f\"Enter the third row: \").split()))\n",
    "        puzzle.append(row)\n",
    "\n",
    "        if not is_solvable(puzzle):\n",
    "            print(\"The given puzzle is not solvable. Please enter a valid 8-puzzle.\")\n",
    "            return\n",
    "\n",
    "    goal = [[1, 2, 3], [4, 5, 6], [7, 8, 0]]\n",
    "\n",
    "    print(\"Select algorithm. (1) for Uniform Cost Search, (2) for the Misplaced Tile Heuristic, or (3) the Manhattan Distance Heuristic.\")\n",
    "    algorithm_choice = int(input())\n",
    "\n",
    "    if algorithm_choice == 1:\n",
    "        algorithm = Algorithm.UNIFORM_COST_SEARCH\n",
    "    elif algorithm_choice == 2:\n",
    "        algorithm = Algorithm.MISPLACED_TILE_HEURISTIC\n",
    "    elif algorithm_choice == 3:\n",
    "        algorithm = Algorithm.MANHATTAN_DISTANCE_HEURISTIC\n",
    "\n",
    "    result_node, nodes_expanded, max_queue_size, _ = general_search(puzzle, goal, algorithm)\n",
    "    print_solution(result_node, nodes_expanded, max_queue_size)\n",
    "\n",
    "if __name__ == \"__main__\":\n",
    "    main()\n"
   ]
  },
  {
   "cell_type": "markdown",
   "id": "64cd5eca",
   "metadata": {},
   "source": [
    "# Benchmark tests on different depth problems"
   ]
  },
  {
   "cell_type": "code",
   "execution_count": 6,
   "id": "c25f7022",
   "metadata": {
    "id": "c25f7022"
   },
   "outputs": [],
   "source": [
    "# Here we define the test-case problems and their respective depths\n",
    "puzzles = [\n",
    "    [[1,2,3],[4,5,6],[7,8,0]], # 0-depth problem\n",
    "    [[1,2,3],[4,5,6],[0,7,8]], # 2-depth problem\n",
    "    [[1,2,3],[5,0,6],[4,7,8]], # 4-depth problem\n",
    "    [[1,3,6],[5,0,2],[4,7,8]], # 8-depth problem\n",
    "    [[1,3,6],[5,0,7],[4,8,2]], # 12-depth problem\n",
    "    [[1,6,7],[5,0,3],[4,8,2]], # 16-depth problem\n",
    "    [[7,1,2],[4,8,5],[6,3,0]], # 20-depth problem\n",
    "    [[0,7,2],[4,6,1],[3,5,8]]  # 24-depth problem\n",
    " ]\n",
    "\n",
    "depths = [0,2,4,8,12,16,20,24] \n",
    "\n",
    "problems = [(depth,puzzle) for depth,puzzle in zip(depths,puzzles)]"
   ]
  },
  {
   "cell_type": "code",
   "execution_count": 7,
   "id": "b19bcc79",
   "metadata": {
    "id": "b19bcc79"
   },
   "outputs": [],
   "source": [
    "# Here we define a function to measure the performance of different heuristics for the problem\n",
    "def measure_heuristics(dataset):\n",
    "    results = []\n",
    "    goal = [[1, 2, 3], [4, 5, 6], [7, 8, 0]]\n",
    "    for depth, puzzle in dataset:\n",
    "        print(f\"Measuring performance for a problem with depth {depth}\")\n",
    "        times = []\n",
    "        for algorithm in Algorithm:\n",
    "            _, _, _, elapsed_time = general_search(puzzle, goal, algorithm)\n",
    "            times.append(elapsed_time)\n",
    "        results.append((depth, times))\n",
    "    return results"
   ]
  },
  {
   "cell_type": "code",
   "execution_count": 8,
   "id": "a43c527f",
   "metadata": {
    "id": "a43c527f"
   },
   "outputs": [],
   "source": [
    "# Here we are plotting the performance of different heuristics \n",
    "import matplotlib.pyplot as plt\n",
    "\n",
    "def plot_results(results):\n",
    "    depths = [r[0] for r in results]\n",
    "    times_uniform = [r[1][0] for r in results]\n",
    "    times_misplaced = [r[1][1] for r in results]\n",
    "    times_manhattan = [r[1][2] for r in results]\n",
    "    plt.plot(depths, times_uniform, label=\"Uniform Cost Search\")\n",
    "    plt.plot(depths, times_misplaced, label=\"Misplaced Tile Heuristic\")\n",
    "    plt.plot(depths, times_manhattan, label=\"Manhattan Distance Heuristic\")\n",
    "    plt.xlabel(\"Depth\")\n",
    "    plt.ylabel(\"Time (seconds)\")\n",
    "    plt.legend()\n",
    "    plt.title(\"Heuristic Performance Comparison\")\n",
    "    plt.show()\n"
   ]
  },
  {
   "cell_type": "markdown",
   "id": "35dc0285",
   "metadata": {},
   "source": [
    "## Main execution block for benchmarking"
   ]
  },
  {
   "cell_type": "code",
   "execution_count": 9,
   "id": "d1282b5c",
   "metadata": {
    "colab": {
     "base_uri": "https://localhost:8080/",
     "height": 611
    },
    "id": "d1282b5c",
    "outputId": "c099fb1d-5933-4acd-fe29-05256534cc68"
   },
   "outputs": [
    {
     "name": "stdout",
     "output_type": "stream",
     "text": [
      "Measuring performance for a problem with depth 0\n",
      "Measuring performance for a problem with depth 2\n",
      "Measuring performance for a problem with depth 4\n",
      "Measuring performance for a problem with depth 8\n",
      "Measuring performance for a problem with depth 12\n",
      "Measuring performance for a problem with depth 16\n",
      "Measuring performance for a problem with depth 20\n",
      "Measuring performance for a problem with depth 24\n"
     ]
    },
    {
     "data": {
      "image/png": "[encoded data removed]",
      "text/plain": [
       "<Figure size 640x480 with 1 Axes>"
      ]
     },
     "metadata": {},
     "output_type": "display_data"
    }
   ],
   "source": [
    "if __name__ == \"__main__\":\n",
    "    results = measure_heuristics(problems)\n",
    "    plot_results(results)"
   ]
  },
  {
   "cell_type": "code",
   "execution_count": null,
   "id": "d8b45748",
   "metadata": {},
   "outputs": [],
   "source": []
  }
 ],
 "metadata": {
  "colab": {
   "machine_shape": "hm",
   "provenance": []
  },
  "gpuClass": "standard",
  "kernelspec": {
   "display_name": "Python 3 (ipykernel)",
   "language": "python",
   "name": "python3"
  },
  "language_info": {
   "codemirror_mode": {
    "name": "ipython",
    "version": 3
   },
   "file_extension": ".py",
   "mimetype": "text/x-python",
   "name": "python",
   "nbconvert_exporter": "python",
   "pygments_lexer": "ipython3",
   "version": "3.10.6"
  }
 },
 "nbformat": 4,
 "nbformat_minor": 5
}
